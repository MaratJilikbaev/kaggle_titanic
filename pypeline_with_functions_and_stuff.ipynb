{
 "cells": [
  {
   "cell_type": "code",
   "execution_count": 1,
   "metadata": {},
   "outputs": [],
   "source": [
    "import pandas as pd\n",
    "import numpy as np"
   ]
  },
  {
   "cell_type": "code",
   "execution_count": 2,
   "metadata": {},
   "outputs": [],
   "source": [
    "df_train = pd.read_csv('train.csv', index_col='PassengerId')\n",
    "df_test = pd.read_csv('test.csv', index_col='PassengerId')"
   ]
  },
  {
   "cell_type": "code",
   "execution_count": 3,
   "metadata": {},
   "outputs": [],
   "source": [
    "def take_name_part_from_df(df, col_name='Name', want_to_add_parts=['Mr.', 'Mrs.', 'Miss.', 'Master.', 'Dr.'], missing_name_part='no_name_part'):\n",
    "    dict_name_parts = {}\n",
    "    for name in df[col_name]:\n",
    "        name_parts = name.split(' ')\n",
    "        for name_part in name_parts:\n",
    "            if name_part not in dict_name_parts.keys():\n",
    "                dict_name_parts[name_part] = 1\n",
    "            else:\n",
    "                dict_name_parts[name_part] += 1\n",
    "    \n",
    "    df_name_parts = pd.DataFrame.from_dict(dict_name_parts, orient='index')\n",
    "    df_name_parts = df_name_parts.reset_index()\n",
    "    df_name_parts.columns = ['name_part', 'cnt']\n",
    "    \n",
    "    name_part_to_df = []\n",
    "\n",
    "    for p_name in df[col_name]:\n",
    "        counter = 0\n",
    "        for name_part in want_to_add_parts:\n",
    "            if name_part in p_name:\n",
    "                name_part_to_df.append(name_part)\n",
    "                continue\n",
    "            else:\n",
    "                counter += 1\n",
    "                if counter == len(want_to_add_parts):\n",
    "                    name_part_to_df.append(missing_name_part)\n",
    "                    \n",
    "    return name_part_to_df"
   ]
  },
  {
   "cell_type": "code",
   "execution_count": 4,
   "metadata": {},
   "outputs": [],
   "source": [
    "def adding_data_to_df(df, list_of_cols_to_add, list_of_names_of_cols_to_add):\n",
    "    for col_index in range(len(list_of_cols_to_add)):\n",
    "        col = list_of_cols_to_add[col_index]\n",
    "        col_name = list_of_names_of_cols_to_add[col_index]\n",
    "        df[col_name] = col\n",
    "    return df"
   ]
  },
  {
   "cell_type": "code",
   "execution_count": 48,
   "metadata": {},
   "outputs": [],
   "source": [
    "def transform_data_for_model(df):\n",
    "\n",
    "    list_of_cols_to_add = []\n",
    "    list_of_names_of_cols_to_add = []\n",
    "\n",
    "    name_parts = take_name_part_from_df(df, col_name='Name', want_to_add_parts=['Mr.', 'Mrs.', 'Miss.', 'Master.', 'Dr.'], missing_name_part='no_name_part')\n",
    "    list_of_cols_to_add.append(name_parts)\n",
    "    list_of_names_of_cols_to_add.append('name_part')\n",
    "\n",
    "    cab_num_for_df = []\n",
    "    for cab_num in df.Cabin:\n",
    "        if pd.isna(cab_num):\n",
    "            cab_num_for_df.append('N')\n",
    "        else:\n",
    "            cab_num_for_df.append(cab_num.split(' ')[0][0])\n",
    "    list_of_cols_to_add.append(cab_num_for_df)\n",
    "    list_of_names_of_cols_to_add.append('cabin_letter')\n",
    "\n",
    "    list_of_cols_to_add.append(df['Sex'].map({'male':0, 'female':1}))\n",
    "    list_of_names_of_cols_to_add.append('sex_binary')\n",
    "    \n",
    "    df = adding_data_to_df(df, list_of_cols_to_add, list_of_names_of_cols_to_add)\n",
    "    list_of_cols_to_add = []\n",
    "    list_of_names_of_cols_to_add = []\n",
    "    \n",
    "    df['Embarked'] = df.Embarked.fillna('S')\n",
    "    mean_age_dict = df[['name_part', 'Age']].groupby('name_part').agg({'Age':'median'}).to_dict(orient='dict')['Age']\n",
    "    list_of_cols_to_add.append(df.apply(lambda row: mean_age_dict[row['name_part']] if np.isnan(row['Age']) else row['Age'], axis=1))\n",
    "    list_of_names_of_cols_to_add.append('age_no_nan')\n",
    "\n",
    "    df_for_return = adding_data_to_df(df, list_of_cols_to_add, list_of_names_of_cols_to_add)\n",
    "\n",
    "    return df_for_return\n",
    "\n",
    "df_train_for_model = transform_data_for_model(df_train)\n",
    "df_train_for_model = df_train_for_model[['Survived', 'Pclass', 'SibSp', 'Parch', 'Fare', 'Embarked', 'name_part', 'cabin_letter', 'sex_binary', 'age_no_nan']]\n",
    "df_train_for_model = pd.get_dummies(df_train_for_model, prefix=['Embarked','name_part','cabin_letter'], columns=['Embarked','name_part','cabin_letter'])"
   ]
  },
  {
   "cell_type": "code",
   "execution_count": 49,
   "metadata": {},
   "outputs": [],
   "source": [
    "from sklearn.tree import DecisionTreeClassifier # Import Decision Tree Classifier\n",
    "from sklearn.model_selection import train_test_split # Import train_test_split function\n",
    "from sklearn import metrics #Import scikit-learn metrics module for accuracy calculation\n",
    "from catboost import CatBoostClassifier\n",
    "import statistics\n",
    "from sklearn import svm\n",
    "from sklearn.ensemble import RandomForestClassifier, VotingClassifier\n",
    "\n",
    "from xgboost import XGBClassifier"
   ]
  },
  {
   "cell_type": "code",
   "execution_count": 75,
   "metadata": {},
   "outputs": [],
   "source": [
    "feature_cols = df_train_for_model.columns[1:]\n",
    "y = df_train_for_model['Survived']\n",
    "X = df_train_for_model[feature_cols]\n",
    "X_train, X_test, y_train, y_test = train_test_split(X, y, test_size=0.3, random_state=7) # 70% training and 30% test"
   ]
  },
  {
   "cell_type": "code",
   "execution_count": 76,
   "metadata": {
    "collapsed": true,
    "jupyter": {
     "outputs_hidden": true
    }
   },
   "outputs": [
    {
     "name": "stdout",
     "output_type": "stream",
     "text": [
      "[01:55:48] WARNING: C:/Users/Administrator/workspace/xgboost-win64_release_1.4.0/src/learner.cc:1095: Starting in XGBoost 1.3.0, the default evaluation metric used with the objective 'binary:logistic' was changed from 'error' to 'logloss'. Explicitly set eval_metric if you'd like to restore the old behavior.\n",
      "0:\tlearn: 0.4117569\ttotal: 960us\tremaining: 95ms\n",
      "1:\tlearn: 0.3970321\ttotal: 1.83ms\tremaining: 89.8ms\n",
      "2:\tlearn: 0.3747669\ttotal: 2.68ms\tremaining: 86.8ms\n",
      "3:\tlearn: 0.3450040\ttotal: 3.62ms\tremaining: 86.8ms\n",
      "4:\tlearn: 0.3277946\ttotal: 4.51ms\tremaining: 85.7ms\n",
      "5:\tlearn: 0.3209012\ttotal: 5.29ms\tremaining: 82.9ms\n",
      "6:\tlearn: 0.3044565\ttotal: 6.19ms\tremaining: 82.3ms\n",
      "7:\tlearn: 0.3014353\ttotal: 6.97ms\tremaining: 80.1ms\n",
      "8:\tlearn: 0.2952029\ttotal: 7.78ms\tremaining: 78.7ms\n",
      "9:\tlearn: 0.2737604\ttotal: 8.61ms\tremaining: 77.5ms\n",
      "10:\tlearn: 0.2634041\ttotal: 9.42ms\tremaining: 76.2ms\n",
      "11:\tlearn: 0.2554961\ttotal: 10.2ms\tremaining: 75.1ms\n",
      "12:\tlearn: 0.2459044\ttotal: 11.1ms\tremaining: 74.5ms\n",
      "13:\tlearn: 0.2374581\ttotal: 12ms\tremaining: 73.7ms\n",
      "14:\tlearn: 0.2294192\ttotal: 12.7ms\tremaining: 72.2ms\n",
      "15:\tlearn: 0.2239704\ttotal: 13.6ms\tremaining: 71.3ms\n",
      "16:\tlearn: 0.2212638\ttotal: 14.6ms\tremaining: 71.2ms\n",
      "17:\tlearn: 0.2128907\ttotal: 15.4ms\tremaining: 70.3ms\n",
      "18:\tlearn: 0.2023029\ttotal: 16.4ms\tremaining: 70ms\n",
      "19:\tlearn: 0.1976940\ttotal: 17.4ms\tremaining: 69.4ms\n",
      "20:\tlearn: 0.1924253\ttotal: 18.2ms\tremaining: 68.4ms\n",
      "21:\tlearn: 0.1851893\ttotal: 19.9ms\tremaining: 70.4ms\n",
      "22:\tlearn: 0.1837830\ttotal: 20.7ms\tremaining: 69.4ms\n",
      "23:\tlearn: 0.1782278\ttotal: 21.6ms\tremaining: 68.3ms\n",
      "24:\tlearn: 0.1738514\ttotal: 22.4ms\tremaining: 67.3ms\n",
      "25:\tlearn: 0.1719095\ttotal: 23.4ms\tremaining: 66.5ms\n",
      "26:\tlearn: 0.1645649\ttotal: 24.2ms\tremaining: 65.4ms\n",
      "27:\tlearn: 0.1619228\ttotal: 25ms\tremaining: 64.2ms\n",
      "28:\tlearn: 0.1554548\ttotal: 25.7ms\tremaining: 63ms\n",
      "29:\tlearn: 0.1488253\ttotal: 26.5ms\tremaining: 61.8ms\n",
      "30:\tlearn: 0.1455135\ttotal: 27.3ms\tremaining: 60.7ms\n",
      "31:\tlearn: 0.1376932\ttotal: 28ms\tremaining: 59.6ms\n",
      "32:\tlearn: 0.1334742\ttotal: 29ms\tremaining: 58.8ms\n",
      "33:\tlearn: 0.1288979\ttotal: 29.8ms\tremaining: 57.9ms\n",
      "34:\tlearn: 0.1271822\ttotal: 30.6ms\tremaining: 56.9ms\n",
      "35:\tlearn: 0.1233826\ttotal: 31.4ms\tremaining: 55.8ms\n",
      "36:\tlearn: 0.1211045\ttotal: 32.2ms\tremaining: 54.8ms\n",
      "37:\tlearn: 0.1193581\ttotal: 33ms\tremaining: 53.8ms\n",
      "38:\tlearn: 0.1149807\ttotal: 33.7ms\tremaining: 52.7ms\n",
      "39:\tlearn: 0.1136034\ttotal: 34.5ms\tremaining: 51.7ms\n",
      "40:\tlearn: 0.1116700\ttotal: 35.2ms\tremaining: 50.7ms\n",
      "41:\tlearn: 0.1093664\ttotal: 36.1ms\tremaining: 49.8ms\n",
      "42:\tlearn: 0.1084113\ttotal: 36.8ms\tremaining: 48.8ms\n",
      "43:\tlearn: 0.1075116\ttotal: 37.6ms\tremaining: 47.9ms\n",
      "44:\tlearn: 0.1058358\ttotal: 38.4ms\tremaining: 46.9ms\n",
      "45:\tlearn: 0.1047554\ttotal: 39.2ms\tremaining: 46ms\n",
      "46:\tlearn: 0.1035643\ttotal: 39.9ms\tremaining: 45ms\n",
      "47:\tlearn: 0.0996322\ttotal: 40.7ms\tremaining: 44ms\n",
      "48:\tlearn: 0.0969272\ttotal: 41.6ms\tremaining: 43.3ms\n",
      "49:\tlearn: 0.0953226\ttotal: 42.6ms\tremaining: 42.6ms\n",
      "50:\tlearn: 0.0935299\ttotal: 43.6ms\tremaining: 41.9ms\n",
      "51:\tlearn: 0.0913582\ttotal: 44.6ms\tremaining: 41.2ms\n",
      "52:\tlearn: 0.0895864\ttotal: 45.4ms\tremaining: 40.3ms\n",
      "53:\tlearn: 0.0876149\ttotal: 46.4ms\tremaining: 39.5ms\n",
      "54:\tlearn: 0.0868056\ttotal: 47.4ms\tremaining: 38.8ms\n",
      "55:\tlearn: 0.0857496\ttotal: 48.3ms\tremaining: 37.9ms\n",
      "56:\tlearn: 0.0839321\ttotal: 49.1ms\tremaining: 37ms\n",
      "57:\tlearn: 0.0829959\ttotal: 49.9ms\tremaining: 36.1ms\n",
      "58:\tlearn: 0.0818844\ttotal: 50.6ms\tremaining: 35.2ms\n",
      "59:\tlearn: 0.0805818\ttotal: 51.4ms\tremaining: 34.3ms\n",
      "60:\tlearn: 0.0796911\ttotal: 52.2ms\tremaining: 33.4ms\n",
      "61:\tlearn: 0.0786174\ttotal: 53ms\tremaining: 32.5ms\n",
      "62:\tlearn: 0.0769373\ttotal: 53.8ms\tremaining: 31.6ms\n",
      "63:\tlearn: 0.0765372\ttotal: 54.6ms\tremaining: 30.7ms\n",
      "64:\tlearn: 0.0753297\ttotal: 55.4ms\tremaining: 29.8ms\n",
      "65:\tlearn: 0.0747139\ttotal: 56.2ms\tremaining: 28.9ms\n",
      "66:\tlearn: 0.0722250\ttotal: 56.9ms\tremaining: 28ms\n",
      "67:\tlearn: 0.0716653\ttotal: 58ms\tremaining: 27.3ms\n",
      "68:\tlearn: 0.0707653\ttotal: 59ms\tremaining: 26.5ms\n",
      "69:\tlearn: 0.0701513\ttotal: 61ms\tremaining: 26.2ms\n",
      "70:\tlearn: 0.0696926\ttotal: 62.5ms\tremaining: 25.5ms\n",
      "71:\tlearn: 0.0687079\ttotal: 63.4ms\tremaining: 24.7ms\n",
      "72:\tlearn: 0.0676741\ttotal: 64.3ms\tremaining: 23.8ms\n",
      "73:\tlearn: 0.0657496\ttotal: 65.3ms\tremaining: 22.9ms\n",
      "74:\tlearn: 0.0653601\ttotal: 66.3ms\tremaining: 22.1ms\n",
      "75:\tlearn: 0.0641799\ttotal: 67.3ms\tremaining: 21.3ms\n",
      "76:\tlearn: 0.0635352\ttotal: 68.1ms\tremaining: 20.4ms\n",
      "77:\tlearn: 0.0626804\ttotal: 69.2ms\tremaining: 19.5ms\n",
      "78:\tlearn: 0.0618287\ttotal: 70.2ms\tremaining: 18.7ms\n",
      "79:\tlearn: 0.0609632\ttotal: 71.3ms\tremaining: 17.8ms\n",
      "80:\tlearn: 0.0592844\ttotal: 72.1ms\tremaining: 16.9ms\n",
      "81:\tlearn: 0.0582811\ttotal: 72.8ms\tremaining: 16ms\n",
      "82:\tlearn: 0.0571133\ttotal: 73.6ms\tremaining: 15.1ms\n",
      "83:\tlearn: 0.0562962\ttotal: 74.3ms\tremaining: 14.2ms\n",
      "84:\tlearn: 0.0557505\ttotal: 75ms\tremaining: 13.2ms\n",
      "85:\tlearn: 0.0553956\ttotal: 75.7ms\tremaining: 12.3ms\n",
      "86:\tlearn: 0.0548774\ttotal: 76.4ms\tremaining: 11.4ms\n",
      "87:\tlearn: 0.0546120\ttotal: 77.1ms\tremaining: 10.5ms\n",
      "88:\tlearn: 0.0544584\ttotal: 77.8ms\tremaining: 9.61ms\n",
      "89:\tlearn: 0.0533559\ttotal: 78.4ms\tremaining: 8.71ms\n",
      "90:\tlearn: 0.0532777\ttotal: 79.1ms\tremaining: 7.83ms\n",
      "91:\tlearn: 0.0526729\ttotal: 79.8ms\tremaining: 6.94ms\n",
      "92:\tlearn: 0.0522635\ttotal: 80.5ms\tremaining: 6.06ms\n",
      "93:\tlearn: 0.0520373\ttotal: 81.2ms\tremaining: 5.18ms\n",
      "94:\tlearn: 0.0518088\ttotal: 82ms\tremaining: 4.32ms\n",
      "95:\tlearn: 0.0512336\ttotal: 82.8ms\tremaining: 3.45ms\n",
      "96:\tlearn: 0.0508851\ttotal: 83.6ms\tremaining: 2.58ms\n",
      "97:\tlearn: 0.0504355\ttotal: 84.4ms\tremaining: 1.72ms\n",
      "98:\tlearn: 0.0496341\ttotal: 85.2ms\tremaining: 860us\n",
      "99:\tlearn: 0.0493009\ttotal: 86.1ms\tremaining: 0us\n"
     ]
    },
    {
     "name": "stderr",
     "output_type": "stream",
     "text": [
      "c:\\users\\marat\\appdata\\local\\programs\\python\\python39\\lib\\site-packages\\xgboost\\sklearn.py:1146: UserWarning: The use of label encoder in XGBClassifier is deprecated and will be removed in a future release. To remove this warning, do the following: 1) Pass option use_label_encoder=False when constructing XGBClassifier object; and 2) Encode your labels (y) as integers starting with 0, i.e. 0, 1, 2, ..., [num_class - 1].\n",
      "  warnings.warn(label_encoder_deprecation_msg, UserWarning)\n"
     ]
    }
   ],
   "source": [
    "clf_dt = DecisionTreeClassifier(max_depth=4,  min_samples_leaf=20)\n",
    "# clf_dt = clf_dt.fit(X_train, y_train)\n",
    "\n",
    "clf_rf = RandomForestClassifier(max_depth=4)\n",
    "# clf_rf = clf_rf.fit(X_train, y_train)\n",
    "\n",
    "clf_xgb = XGBClassifier()\n",
    "# clf_xgb = clf_xgb.fit(X_train, y_train)\n",
    "\n",
    "cat_features = [0, 1]\n",
    "clf_cb = CatBoostClassifier(iterations=100, learning_rate=1, depth=4)\n",
    "# clf_cb.fit(X_train, y_train, cat_features)\n",
    "\n",
    "eclf2 = VotingClassifier(estimators=[('dt', clf_dt), ('rf', clf_rf), ('xgb', clf_xgb), ('catb', clf_cb)], voting='soft')\n",
    "eclf2 = eclf2.fit(X_train, y_train)"
   ]
  },
  {
   "cell_type": "code",
   "execution_count": 77,
   "metadata": {},
   "outputs": [
    {
     "name": "stdout",
     "output_type": "stream",
     "text": [
      "[01:55:48] WARNING: C:/Users/Administrator/workspace/xgboost-win64_release_1.4.0/src/learner.cc:1095: Starting in XGBoost 1.3.0, the default evaluation metric used with the objective 'binary:logistic' was changed from 'error' to 'logloss'. Explicitly set eval_metric if you'd like to restore the old behavior.\n"
     ]
    }
   ],
   "source": [
    "clf_xgb = clf_xgb.fit(X_train, y_train)\n",
    "clf_rf = RandomForestClassifier(max_depth=4)\n",
    "clf_rf = clf_rf.fit(X_train, y_train)"
   ]
  },
  {
   "cell_type": "code",
   "execution_count": 78,
   "metadata": {},
   "outputs": [],
   "source": [
    "df_test_for_model = transform_data_for_model(df_test)\n",
    "df_test_for_model = df_test_for_model[['Pclass', 'SibSp', 'Parch', 'Fare', 'Embarked', 'name_part', 'cabin_letter', 'sex_binary', 'age_no_nan']]\n",
    "df_test_for_model = pd.get_dummies(df_test_for_model, prefix=['Embarked','name_part','cabin_letter'], columns=['Embarked','name_part','cabin_letter'])\n",
    "# Жуткий костыль!\n",
    "df_test_for_model['cabin_letter_T'] = 0\n",
    "df_test_for_model['Fare'] = df_test_for_model['Fare'].fillna(df_test_for_model['Fare'].median())\n",
    "df_test_for_model['Survived'] = clf_rf.predict(df_test_for_model[feature_cols])"
   ]
  },
  {
   "cell_type": "code",
   "execution_count": 79,
   "metadata": {},
   "outputs": [],
   "source": [
    "df_test_for_model[['Survived']].to_csv('result_rf.csv')"
   ]
  },
  {
   "cell_type": "code",
   "execution_count": null,
   "metadata": {},
   "outputs": [],
   "source": []
  }
 ],
 "metadata": {
  "kernelspec": {
   "display_name": "Python 3",
   "language": "python",
   "name": "python3"
  },
  "language_info": {
   "codemirror_mode": {
    "name": "ipython",
    "version": 3
   },
   "file_extension": ".py",
   "mimetype": "text/x-python",
   "name": "python",
   "nbconvert_exporter": "python",
   "pygments_lexer": "ipython3",
   "version": "3.9.1"
  }
 },
 "nbformat": 4,
 "nbformat_minor": 4
}
